{
  "nbformat": 4,
  "nbformat_minor": 0,
  "metadata": {
    "colab": {
      "private_outputs": true,
      "provenance": [],
      "authorship_tag": "ABX9TyNjTP9opcC58ZIfYxu1q7AS",
      "include_colab_link": true
    },
    "kernelspec": {
      "name": "python3",
      "display_name": "Python 3"
    },
    "language_info": {
      "name": "python"
    }
  },
  "cells": [
    {
      "cell_type": "markdown",
      "metadata": {
        "id": "view-in-github",
        "colab_type": "text"
      },
      "source": [
        "<a href=\"https://colab.research.google.com/github/tannyyaawadhwani-design/puthony/blob/main/DAY7_2.ipynb\" target=\"_parent\"><img src=\"https://colab.research.google.com/assets/colab-badge.svg\" alt=\"Open In Colab\"/></a>"
      ]
    },
    {
      "cell_type": "code",
      "execution_count": null,
      "metadata": {
        "id": "Py2ZwzmxCsRj"
      },
      "outputs": [],
      "source": [
        "# Day 7.2 - Advanced Data Transformation in Pandas\n",
        "import pandas as pd\n",
        "\n",
        "# Sample DataFrame\n",
        "data = {\"Name\": [\"Tanya\", \"Shivani\", \"Rishi\"],\n",
        "        \"Marks\": [99, 88, 77],\n",
        "        \"Grade\": [\"A\", \"B\", \"C\"]}\n",
        "df = pd.DataFrame(data)\n",
        "print(\"Original DataFrame:\\n\", df, \"\\n\")\n",
        "\n",
        "# 1. Replace → Value Transformation\n",
        "df[\"Grade\"] = df[\"Grade\"].replace({\"A\": \"Excellent\", \"B\": \"Good\", \"C\": \"Average\"})\n",
        "print(\"After replace:\\n\", df, \"\\n\")\n",
        "\n",
        "# 2. where() & mask()\n",
        "df[\"Marks_Where\"] = df[\"Marks\"].where(df[\"Marks\"] >= 80, 0)   # keep if >=80 else 0\n",
        "df[\"Marks_Mask\"] = df[\"Marks\"].mask(df[\"Marks\"] >= 80, 0)     # replace if >=80 else keep\n",
        "print(\"After where() and mask():\\n\", df, \"\\n\")\n",
        "\n",
        "# 3. cut() → Binning\n",
        "df[\"Performance\"] = pd.cut(df[\"Marks\"], bins=[0,60,80,100],\n",
        "                           labels=[\"Fail\",\"Average\",\"Good\"])\n",
        "print(\"After cut() binning:\\n\", df, \"\\n\")\n",
        "\n",
        "# 4. qcut() → Quantile Binning\n",
        "df[\"Quantile_Group\"] = pd.qcut(df[\"Marks\"], q=3, labels=[\"Low\",\"Medium\",\"High\"])\n",
        "print(\"After qcut() quantile binning:\\n\", df, \"\\n\")\n",
        "\n",
        "# 5. pipe() → Clean Function Chaining\n",
        "def double_marks(d):\n",
        "    d[\"Marks_Double\"] = d[\"Marks\"]*2\n",
        "    return d\n",
        "\n",
        "def lowercase_name(d):\n",
        "    d[\"Name_Lower\"] = d[\"Name\"].str.lower()\n",
        "    return d\n",
        "\n",
        "df = (df.pipe(double_marks)\n",
        "        .pipe(lowercase_name))\n",
        "print(\"After pipe() transformations:\\n\", df, \"\\n\")\n",
        "\n",
        "# 6. Vectorized String Operations\n",
        "df[\"Name_Length\"] = df[\"Name\"].str.len()\n",
        "df[\"Has_A\"] = df[\"Name\"].str.contains(\"a\", case=False)\n",
        "df[\"Name_Replaced\"] = df[\"Name\"].str.replace(\"i\", \"I\", regex=True)\n",
        "print(\"After string transformations:\\n\", df, \"\\n\")"
      ]
    }
  ]
}
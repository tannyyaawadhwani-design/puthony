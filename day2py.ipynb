{
  "nbformat": 4,
  "nbformat_minor": 0,
  "metadata": {
    "colab": {
      "provenance": [],
      "authorship_tag": "ABX9TyPxIHT50Gxmk14FzQZVH4A3",
      "include_colab_link": true
    },
    "kernelspec": {
      "name": "python3",
      "display_name": "Python 3"
    },
    "language_info": {
      "name": "python"
    }
  },
  "cells": [
    {
      "cell_type": "markdown",
      "metadata": {
        "id": "view-in-github",
        "colab_type": "text"
      },
      "source": [
        "<a href=\"https://colab.research.google.com/github/tannyyaawadhwani-design/puthony/blob/main/day2py.ipynb\" target=\"_parent\"><img src=\"https://colab.research.google.com/assets/colab-badge.svg\" alt=\"Open In Colab\"/></a>"
      ]
    },
    {
      "cell_type": "code",
      "execution_count": 37,
      "metadata": {
        "colab": {
          "base_uri": "https://localhost:8080/"
        },
        "id": "Hyp1BM9j23a-",
        "outputId": "ea9c6246-5ad4-413a-8683-20d617368bd9"
      },
      "outputs": [
        {
          "output_type": "stream",
          "name": "stdout",
          "text": [
            "Array: [1 2 3 4 5]\n",
            "Shape: (5,)\n",
            "Dimension: 1\n",
            "Sum: 15\n",
            "Mean: 3.0\n",
            "Standard Deviation: 1.4142135623730951\n",
            "2D Array:\n",
            " [[1 2 3]\n",
            " [4 5 6]]\n",
            "Shape: (2, 3)\n",
            "Number of Dimensions: 2\n",
            "First row: [1 2 3]\n",
            "Element at row1,col2: 2\n",
            "Add: [5 7 9]\n",
            "Multiply: [ 4 10 18]\n",
            "Subtract: [3 3 3]\n",
            "Multiply by 2: [2 4 6]\n",
            "arange: [0 2 4 6 8]\n",
            "linspace: [0.   0.25 0.5  0.75 1.  ]\n",
            "Random integers: [8 2 8 4 5]\n",
            "Random floats: [0.83383852 0.72915159 0.43307071]\n",
            "kaha udayi 10 din: [300  20 170 211 124 853 210 395 253  81]\n",
            "pura total kharch: 2617\n",
            "average kitna: 261.7\n",
            "sabse jada: 853\n",
            "sabse kam: 20\n",
            "2D: [[300  20 170 211 124]\n",
            " [853 210 395 253  81]]\n",
            "sumrow1: 825\n",
            "sumrow2: 1792\n",
            "sum of rows: [ 825 1792]\n",
            "Row-wise averages: [165.  358.4]\n",
            "Column-wise sums: [1153  230  565  464  205]\n",
            "Square: [ 1  4  9 16 25]\n",
            "Square root: [1.         1.41421356 1.73205081 2.         2.23606798]\n",
            "Greater than 3: [False False False  True  True]\n",
            "[20 30]\n",
            "[[10 20 30]\n",
            " [40 50 60]]\n",
            "[25 30 45]\n",
            "[False  True  True  True]\n",
            "[1 2 3 4 5 6]\n",
            "[[1 4]\n",
            " [2 5]\n",
            " [3 6]]\n",
            "random array: [19  2 28  3  1 22 47 14 26  9 33 47]\n",
            "3*4 random array: [[19  2 28  3]\n",
            " [ 1 22 47 14]\n",
            " [26  9 33 47]]\n",
            "above 20: [28 22 47 26 33 47]\n",
            "row-wise sum and column-wise average: [ 46  33 108  64] [13.   21.   28.75]\n",
            "flattened array: [19  2 28  3  1 22 47 14 26  9 33 47]\n",
            "only odd number: [19  3  1 47  9 33 47]\n"
          ]
        }
      ],
      "source": [
        "import numpy as np\n",
        "\n",
        "# Create arrays\n",
        "arr1 = np.array([1, 2, 3, 4, 5])\n",
        "print(\"Array:\", arr1)\n",
        "\n",
        "# Shape & Dimensions\n",
        "print(\"Shape:\", arr1.shape)\n",
        "print(\"Dimension:\", arr1.ndim)\n",
        "\n",
        "# Array operations\n",
        "print(\"Sum:\", np.sum(arr1))\n",
        "print(\"Mean:\", np.mean(arr1))\n",
        "print(\"Standard Deviation:\", np.std(arr1))\n",
        "\n",
        "\n",
        "arr2 = np.array([[1, 2, 3], [4, 5, 6]])\n",
        "print(\"2D Array:\\n\", arr2)\n",
        "print(\"Shape:\", arr2.shape)\n",
        "print(\"Number of Dimensions:\", arr2.ndim)\n",
        "\n",
        "# Access elements\n",
        "print(\"First row:\", arr2[0])\n",
        "print(\"Element at row1,col2:\", arr2[0,1])\n",
        "\n",
        "\n",
        "a = np.array([1, 2, 3])\n",
        "b = np.array([4, 5, 6])\n",
        "\n",
        "# Element-wise operations\n",
        "print(\"Add:\", a+b )\n",
        "print(\"Multiply:\", a * b)\n",
        "print(\"Subtract:\", b - a)\n",
        "\n",
        "# Scalar operations\n",
        "print(\"Multiply by 2:\", a * 2)\n",
        "\n",
        "# Create sequences\n",
        "print(\"arange:\", np.arange(0, 10, 2))  # start, stop, step\n",
        "print(\"linspace:\", np.linspace(0, 1, 5))  # start, stop, num_points\n",
        "\n",
        "# Random numbers\n",
        "print(\"Random integers:\", np.random.randint(1, 10, 5))\n",
        "print(\"Random floats:\", np.random.rand(3))\n",
        "\n",
        "\n",
        "\n",
        "\n",
        "#mini exercise\n",
        "import numpy as np\n",
        "kharcha= np.array([300,20,170,211,124,853,210,395,253,81])\n",
        "print(\"kaha udayi 10 din:\",kharcha)\n",
        "print(\"pura total kharch:\",np.sum(kharcha))\n",
        "print(\"average kitna:\", np.mean(kharcha))\n",
        "print(\"sabse jada:\", np.max(kharcha))\n",
        "print(\"sabse kam:\", np.min(kharcha))\n",
        "kharcha2D= kharcha.reshape(2,5)\n",
        "print(\"2D:\",kharcha2D)\n",
        "print(\"sumrow1:\", np.sum(kharcha2D[0]))\n",
        "print(\"sumrow2:\", np.sum(kharcha2D[1]))\n",
        "print(\"sum of rows:\",np.sum(kharcha2D, axis=1))\n",
        "# Row-wise average\n",
        "print(\"Row-wise averages:\",  np.mean(kharcha2D,axis=1))\n",
        "# Column-wise sum\n",
        "print(\"Column-wise sums:\",np.sum(kharcha2D, axis=0))\n",
        "\n",
        "import numpy as np\n",
        "\n",
        "arr = np.array([1,2,3,4,5])\n",
        "print(\"Square:\", np.square(arr))\n",
        "print(\"Square root:\", np.sqrt(arr))\n",
        "print(\"Greater than 3:\", arr > 3)\n",
        "\n",
        "arr2D = np.array([[10,20,30],[40,50,60]])\n",
        "print(arr2D[0, 1:3])  # [20 30]\n",
        "print(arr2D[0:3])\n",
        "\n",
        "arr = np.array([10, 25, 30, 45])\n",
        "print(arr[arr > 20])  # [25 30 45]\n",
        "print(arr>20)\n",
        "\n",
        "arr2D = np.array([[1,2,3],[4,5,6]])\n",
        "print(arr2D.flatten())   # [1 2 3 4 5 6]\n",
        "print(arr2D.T)           # Transposed 2D array\n",
        "\n",
        "\n",
        "#mini exercise\n",
        "randint= np.random.randint(0,50,12)\n",
        "print(\"random array:\", randint)\n",
        "randit= randint.reshape(3,4)\n",
        "print(\"3*4 random array:\",randint.reshape(3,4))\n",
        "#since printing elements above 20 asked\n",
        "print(\"above 20:\",randit[randit>20])\n",
        "print(\"row-wise sum and column-wise average:\", np.sum(randit, axis=0) , np.mean(randit, axis=1))\n",
        "print( \"flattened array:\",randit.flatten())\n",
        "print(\"only odd number:\", randit[randit%2!=0])\n"
      ]
    },
    {
      "cell_type": "markdown",
      "source": [],
      "metadata": {
        "id": "nVnHuQQEYTAO"
      }
    },
    {
      "cell_type": "code",
      "source": [],
      "metadata": {
        "id": "WzQH_nSwYUPE"
      },
      "execution_count": null,
      "outputs": []
    },
    {
      "cell_type": "code",
      "source": [],
      "metadata": {
        "id": "HJd75dhWYUbu"
      },
      "execution_count": null,
      "outputs": []
    },
    {
      "cell_type": "code",
      "source": [
        "\n",
        "\n"
      ],
      "metadata": {
        "id": "1qrPJJ0D9JFj"
      },
      "execution_count": null,
      "outputs": []
    }
  ]
}
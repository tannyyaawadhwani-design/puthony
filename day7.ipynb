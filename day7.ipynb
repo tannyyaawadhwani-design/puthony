{
  "nbformat": 4,
  "nbformat_minor": 0,
  "metadata": {
    "colab": {
      "private_outputs": true,
      "provenance": [],
      "authorship_tag": "ABX9TyNlvuMJarO5bIMkbGVRCY1s",
      "include_colab_link": true
    },
    "kernelspec": {
      "name": "python3",
      "display_name": "Python 3"
    },
    "language_info": {
      "name": "python"
    }
  },
  "cells": [
    {
      "cell_type": "markdown",
      "metadata": {
        "id": "view-in-github",
        "colab_type": "text"
      },
      "source": [
        "<a href=\"https://colab.research.google.com/github/tannyyaawadhwani-design/puthony/blob/main/day7.ipynb\" target=\"_parent\"><img src=\"https://colab.research.google.com/assets/colab-badge.svg\" alt=\"Open In Colab\"/></a>"
      ]
    },
    {
      "cell_type": "code",
      "source": [
        "# Day 7 - Data Transformation in Pandas\n",
        "import pandas as pd\n",
        "\n",
        "# Sample DataFrame\n",
        "data = {\"Name\": [\"Tanya\", \"Shivani\", \"Rishi\"],\n",
        "        \"Marks\": [99, 88, 77]}\n",
        "df = pd.DataFrame(data)\n",
        "print(\"Original DataFrame:\\n\", df, \"\\n\")\n",
        "\n",
        "# 1. Using apply() → apply function to a column\n",
        "df[\"Square_Marks\"] = df[\"Marks\"].apply(lambda x: x*x)\n",
        "print(\"With Square_Marks using apply:\\n\", df, \"\\n\")\n",
        "\n",
        "# 2. Using map() → works on Series\n",
        "df[\"Name_Upper\"] = df[\"Name\"].map(str.upper)\n",
        "print(\"With Name_Upper using map:\\n\", df, \"\\n\")\n",
        "\n",
        "#thoughit works same with .apply()\n",
        "df[\"Name_Upper\"] = df[\"Name\"].apply(str.upper)\n",
        "print(\"With Name_Upper using map:\\n\", df, \"\\n\")\n",
        "\n",
        "# 3. Using applymap() → element-wise for whole DataFrame\n",
        "df2 = df[[\"Marks\", \"Square_Marks\"]]\n",
        "print(\"Applymap to add +10:\\n\", df2.applymap(lambda x: x+10), \"\\n\")\n",
        "\n",
        "# 4. astype() → change datatype\n",
        "df[\"Marks\"] = df[\"Marks\"].astype(float)\n",
        "print(\"Data types after astype:\\n\", df.dtypes, \"\\n\")\n",
        "\n",
        "#Mini Challenge 1: Half Marks\n",
        "df[\"Half_Marks\"] = df[\"Marks\"].apply(lambda x: x/2)\n",
        "print(\"With Half_Marks column:\\n\", df, \"\\n\")\n",
        "\n",
        "# Mini Challenge 2: Grade column (A, B, C)\n",
        "df[\"Grade\"] = df[\"Marks\"].apply(lambda x: 'A' if x>=90 else ('B' if x>=80 else 'C'))\n",
        "print(\"With Grade column:\\n\", df, \"\\n\")\n",
        "\n",
        "#Mini Challenge 3: Pass/Fail column\n",
        "df[\"Pass/Fail\"] = df[\"Marks\"].apply(lambda x: \"Pass\" if x>=60 else \"Fail\")\n",
        "print(\"With Pass/Fail column:\\n\", df, \"\\n\")\n",
        "\n",
        "# Apply row-wise:Calculate Total Score = Marks + Length of Name\n",
        "df[\"Total_Score\"] = df.apply(lambda row: row[\"Marks\"] + len(row[\"Name\"]), axis=1)\n",
        "print(df,\"\\n\")\n",
        "df[\"Total_Score\"] = df.apply(lambda x: x[\"Marks\"] + len(x[\"Name\"]), axis=1)\n",
        "print(df,\"\\n\")\n",
        "\n",
        "#Custom function\n",
        "\n",
        "def grade_function(marks):\n",
        "    if marks >= 90:\n",
        "        return \"A\"\n",
        "    elif marks >= 80:\n",
        "        return \"B\"\n",
        "    else:\n",
        "        return \"C\"\n",
        "\n",
        "df[\"Grade_New\"] = df[\"Marks\"].apply(grade_function)\n",
        "print(df,\"\\n\")\n",
        "\n",
        "df[\"name_length\"] = df[\"Name\"].apply(len)\n",
        "print(df,\"\\n\")"
      ],
      "metadata": {
        "id": "FIl3Fux8x3Pv"
      },
      "execution_count": null,
      "outputs": []
    },
    {
      "cell_type": "code",
      "source": [],
      "metadata": {
        "id": "pT2eeNTzx3zS"
      },
      "execution_count": null,
      "outputs": []
    }
  ]
}